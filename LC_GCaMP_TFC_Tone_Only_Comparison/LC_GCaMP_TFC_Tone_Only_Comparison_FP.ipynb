{
 "cells": [
  {
   "cell_type": "code",
   "execution_count": 2,
   "metadata": {},
   "outputs": [],
   "source": [
    "import matplotlib.pyplot as plt\n",
    "%matplotlib inline\n",
    "import pandas as pd\n",
    "import numpy as np\n",
    "import sys\n",
    "# change pkg_path variable to the directory storing the package\n",
    "sys.path.insert(0, '../utility_code')\n",
    "import fp_dat, fp_viz\n",
    "import seaborn as sns\n",
    "import statsmodels.api as sm\n",
    "import scipy.stats as sci\n"
   ]
  },
  {
   "cell_type": "code",
   "execution_count": 3,
   "metadata": {},
   "outputs": [
    {
     "data": {
      "image/png": "[encoded data removed]",
      "text/plain": [
       "<Figure size 576x72 with 1 Axes>"
      ]
     },
     "metadata": {},
     "output_type": "display_data"
    }
   ],
   "source": [
    "fp_viz.plot_style()\n",
    "npg_pal=['#2b88f0', '#EF862E', '#00B9B9', '#9147B1', '#28A649', '#F97B7B', '#490035', '#606060']\n",
    "fp_viz.set_palette(color_pal=['#2b88f0', '#EF862E', '#00B9B9', '#9147B1', '#28A649', '#F97B7B', '#490035', '#606060'], show = True)"
   ]
  },
  {
   "attachments": {},
   "cell_type": "markdown",
   "metadata": {},
   "source": [
    "# Load Tone Only Data"
   ]
  },
  {
   "cell_type": "code",
   "execution_count": 4,
   "metadata": {},
   "outputs": [],
   "source": [
    "df_tone_d1 = pd.read_csv(\n",
    "    './data-clean/LC_GcAMP_Tone_Only_Day1.csv')\n",
    "\n",
    "df_tone_d2 = pd.read_csv(\n",
    "    './data-clean/LC_GcAMP_Tone_Only_Day2.csv')\n",
    "\n",
    "df_tone_d3 = pd.read_csv(\n",
    "    './data-clean/LC_GcAMP_Tone_Only_Day3.csv')\n"
   ]
  },
  {
   "cell_type": "code",
   "execution_count": 5,
   "metadata": {},
   "outputs": [],
   "source": [
    "# label the days and concatenate all days into 1 dataframe for the tone alone group\n",
    "df_tone_d1['Day'] = 1\n",
    "df_tone_d2['Day'] = 2\n",
    "df_tone_d3['Day'] = 3\n",
    "\n",
    "df_tone_only = pd.concat([df_tone_d1, df_tone_d2, df_tone_d3]).reset_index(drop=True)"
   ]
  },
  {
   "attachments": {},
   "cell_type": "markdown",
   "metadata": {},
   "source": [
    "# Load TFC Data"
   ]
  },
  {
   "cell_type": "code",
   "execution_count": 6,
   "metadata": {},
   "outputs": [],
   "source": [
    "df_tfc_d1 = pd.read_csv(\n",
    "    './data-clean/LC_GcAMP_TFC_Day1.csv')\n",
    "\n",
    "df_tfc_d2 = pd.read_csv(\n",
    "    './data-clean/LC_GcAMP_TFC_Day2.csv')\n",
    "\n",
    "df_tfc_d3 = pd.read_csv(\n",
    "    './data-clean/LC_GcAMP_TFC_Day3.csv')\n"
   ]
  },
  {
   "cell_type": "code",
   "execution_count": 7,
   "metadata": {},
   "outputs": [],
   "source": [
    "# label the days and concatenate all days into 1 dataframe for the tone alone group\n",
    "df_tfc_d1['Day'] = 1\n",
    "df_tfc_d2['Day'] = 2\n",
    "df_tfc_d3['Day'] = 3\n",
    "\n",
    "df_tfc = pd.concat([df_tfc_d1, df_tfc_d2, df_tfc_d3]).reset_index(drop=True)"
   ]
  },
  {
   "cell_type": "code",
   "execution_count": 8,
   "metadata": {},
   "outputs": [],
   "source": [
    "# Add a Group column to label whether animals underwent TFC or tone only\n",
    "df_tfc['Group'] = 'TFC'\n",
    "df_tone_only['Group'] = 'Tone Only'"
   ]
  },
  {
   "cell_type": "code",
   "execution_count": 9,
   "metadata": {},
   "outputs": [],
   "source": [
    "# Combine the data into one dataframe\n",
    "df_all = pd.concat([df_tfc, df_tone_only]).reset_index()"
   ]
  },
  {
   "attachments": {},
   "cell_type": "markdown",
   "metadata": {
    "tags": []
   },
   "source": [
    "# Looking at Tone Responses by Day and Group"
   ]
  },
  {
   "cell_type": "code",
   "execution_count": 10,
   "metadata": {
    "tags": []
   },
   "outputs": [],
   "source": [
    "# Get the peak dFF to the tone onset in the tone only group on each day\n",
    "\n",
    "tone_d1_prepost = fp_dat.calc_pre_post(df_tone_d1, event = 'tone', t_pre=(-2,0), t_post=(0,2), measure = 'max')\n",
    "tone_d2_prepost = fp_dat.calc_pre_post(df_tone_d2, event = 'tone',  t_pre=(-2,0), t_post=(0,2), measure = 'max')\n",
    "tone_d3_prepost = fp_dat.calc_pre_post(df_tone_d3, event = 'tone',  t_pre=(-2,0), t_post=(0,2), measure = 'max')"
   ]
  },
  {
   "cell_type": "code",
   "execution_count": 11,
   "metadata": {},
   "outputs": [],
   "source": [
    "# Get the peak dFF to the tone onset in the TFC group on each day\n",
    "\n",
    "tfc_d1_prepost = fp_dat.calc_pre_post(df_tfc_d1, event = 'tone',  t_pre=(-2,0), t_post=(0,2), measure = 'max')\n",
    "tfc_d2_prepost = fp_dat.calc_pre_post(df_tfc_d2, event = 'tone',  t_pre=(-2,0), t_post=(0,2), measure = 'max')\n",
    "tfc_d3_prepost = fp_dat.calc_pre_post(df_tfc_d3, event = 'tone',  t_pre=(-2,0), t_post=(0,2), measure = 'max')"
   ]
  },
  {
   "cell_type": "code",
   "execution_count": 12,
   "metadata": {},
   "outputs": [],
   "source": [
    "# combine all days data from tone only into one dataframe\n",
    "tone_only_prepost = pd.concat([tone_d1_prepost,tone_d2_prepost,tone_d3_prepost]).reset_index(drop = True)"
   ]
  },
  {
   "cell_type": "code",
   "execution_count": 13,
   "metadata": {},
   "outputs": [],
   "source": [
    "# combine all days data from TFC into one dataframe\n",
    "tfc_prepost = pd.concat([tfc_d1_prepost,tfc_d2_prepost,tfc_d3_prepost]).reset_index(drop = True)"
   ]
  },
  {
   "cell_type": "code",
   "execution_count": 14,
   "metadata": {},
   "outputs": [],
   "source": [
    "# add group label to prepost data frame\n",
    "tone_only_prepost['Group'] = 'Tone Only'\n",
    "tfc_prepost['Group'] = 'TFC'"
   ]
  },
  {
   "cell_type": "code",
   "execution_count": 15,
   "metadata": {},
   "outputs": [],
   "source": [
    "# combine tone only and TFC data into one dataframe\n",
    "all_prepost = pd.concat([tone_only_prepost, tfc_prepost]).reset_index()"
   ]
  },
  {
   "cell_type": "code",
   "execution_count": 16,
   "metadata": {},
   "outputs": [
    {
     "data": {
      "image/png": "[encoded data removed]",
      "text/plain": [
       "<Figure size 864x720 with 1 Axes>"
      ]
     },
     "metadata": {},
     "output_type": "display_data"
    }
   ],
   "source": [
    "# Plot peak dFF of tone only and TFC groups on each day\n",
    "pal = ['#9147B1','dodgerblue']\n",
    "fig, ax = plt.subplots(figsize = (12,10))\n",
    "\n",
    "p = sns.pointplot(x = 'Day', y = '465nm_dFF_norm', hue = 'Group', \n",
    "                ci = 68, hue_order=['TFC','Tone Only'], palette = pal, capsize=0.05, \n",
    "                  data=all_prepost.query('epoch == \"post-tone\"'), \n",
    "                  errwidth=5, scale=2,  marker_size=800)\n",
    "\n",
    "ax.set_ylabel('')\n",
    "ax.set_xlabel('')\n",
    "ax.set_xticklabels(['1','2','3'], fontsize = 50)\n",
    "\n",
    "plt.yticks(fontsize = 50)\n",
    "\n",
    "\n",
    "leg = plt.legend(loc = \"upper right\", fontsize = 50)\n",
    "leg.get_texts()[0].set_text('TFC')\n",
    "leg.get_texts()[1].set_text('Tone Only')\n",
    "\n",
    "plt.setp(ax.collections, sizes=[450])\n",
    "\n",
    "#ax.set_ylim(0,6.99)\n",
    "\n",
    "plt.tight_layout()"
   ]
  },
  {
   "cell_type": "code",
   "execution_count": 17,
   "metadata": {},
   "outputs": [],
   "source": [
    "# Separate out the pre and post tone data\n",
    "all_post = all_prepost.query('epoch == \"post-tone\"')\n",
    "all_pre = all_prepost.query('epoch == \"pre-tone\"')"
   ]
  },
  {
   "cell_type": "code",
   "execution_count": 18,
   "metadata": {},
   "outputs": [],
   "source": [
    "# Just get the needed columns\n",
    "all_post = all_post[['Animal', '465nm_dFF_norm', 'Day', 'Group']]\n",
    "all_pre = all_pre[['Animal', '465nm_dFF_norm', 'Day', 'Group']]"
   ]
  },
  {
   "cell_type": "code",
   "execution_count": 19,
   "metadata": {},
   "outputs": [],
   "source": [
    "# Rename data column for easier typing\n",
    "new_columns = all_post.columns.values\n",
    "new_columns[1] = 'Post'\n",
    "all_post.columns = new_columns"
   ]
  },
  {
   "cell_type": "code",
   "execution_count": 20,
   "metadata": {},
   "outputs": [],
   "source": [
    "# Rename data column for easier typing\n",
    "new_columns = all_pre.columns.values\n",
    "new_columns[1] = 'Pre'\n",
    "all_pre.columns = new_columns"
   ]
  },
  {
   "cell_type": "code",
   "execution_count": 21,
   "metadata": {},
   "outputs": [],
   "source": [
    "import pingouin as pg"
   ]
  },
  {
   "cell_type": "code",
   "execution_count": 22,
   "metadata": {},
   "outputs": [
    {
     "name": "stderr",
     "output_type": "stream",
     "text": [
      "/Users/jake/opt/anaconda3/lib/python3.8/site-packages/outdated/utils.py:14: OutdatedPackageWarning: The package outdated is out of date. Your version is 0.2.1, the latest is 0.2.2.\n",
      "Set the environment variable OUTDATED_IGNORE=1 to disable these warnings.\n",
      "  return warn(\n",
      "/Users/jake/opt/anaconda3/lib/python3.8/site-packages/outdated/utils.py:14: OutdatedPackageWarning: The package pingouin is out of date. Your version is 0.5.0, the latest is 0.5.3.\n",
      "Set the environment variable OUTDATED_IGNORE=1 to disable these warnings.\n",
      "  return warn(\n"
     ]
    },
    {
     "data": {
      "text/html": [
       "<div>\n",
       "<style scoped>\n",
       "    .dataframe tbody tr th:only-of-type {\n",
       "        vertical-align: middle;\n",
       "    }\n",
       "\n",
       "    .dataframe tbody tr th {\n",
       "        vertical-align: top;\n",
       "    }\n",
       "\n",
       "    .dataframe thead th {\n",
       "        text-align: right;\n",
       "    }\n",
       "</style>\n",
       "<table border=\"1\" class=\"dataframe\">\n",
       "  <thead>\n",
       "    <tr style=\"text-align: right;\">\n",
       "      <th></th>\n",
       "      <th>Source</th>\n",
       "      <th>SS</th>\n",
       "      <th>DF1</th>\n",
       "      <th>DF2</th>\n",
       "      <th>MS</th>\n",
       "      <th>F</th>\n",
       "      <th>p-unc</th>\n",
       "      <th>p-GG-corr</th>\n",
       "      <th>np2</th>\n",
       "      <th>eps</th>\n",
       "      <th>sphericity</th>\n",
       "      <th>W-spher</th>\n",
       "      <th>p-spher</th>\n",
       "    </tr>\n",
       "  </thead>\n",
       "  <tbody>\n",
       "    <tr>\n",
       "      <th>0</th>\n",
       "      <td>Group</td>\n",
       "      <td>17.229</td>\n",
       "      <td>1</td>\n",
       "      <td>7</td>\n",
       "      <td>17.229</td>\n",
       "      <td>8.372</td>\n",
       "      <td>0.023</td>\n",
       "      <td>NaN</td>\n",
       "      <td>0.545</td>\n",
       "      <td>NaN</td>\n",
       "      <td>NaN</td>\n",
       "      <td>NaN</td>\n",
       "      <td>NaN</td>\n",
       "    </tr>\n",
       "    <tr>\n",
       "      <th>1</th>\n",
       "      <td>Day</td>\n",
       "      <td>29.372</td>\n",
       "      <td>2</td>\n",
       "      <td>14</td>\n",
       "      <td>14.686</td>\n",
       "      <td>25.609</td>\n",
       "      <td>0.000</td>\n",
       "      <td>0.003</td>\n",
       "      <td>0.785</td>\n",
       "      <td>0.559</td>\n",
       "      <td>False</td>\n",
       "      <td>0.212</td>\n",
       "      <td>0.004</td>\n",
       "    </tr>\n",
       "    <tr>\n",
       "      <th>2</th>\n",
       "      <td>Interaction</td>\n",
       "      <td>7.398</td>\n",
       "      <td>2</td>\n",
       "      <td>14</td>\n",
       "      <td>3.699</td>\n",
       "      <td>6.451</td>\n",
       "      <td>0.010</td>\n",
       "      <td>NaN</td>\n",
       "      <td>0.480</td>\n",
       "      <td>NaN</td>\n",
       "      <td>NaN</td>\n",
       "      <td>NaN</td>\n",
       "      <td>NaN</td>\n",
       "    </tr>\n",
       "  </tbody>\n",
       "</table>\n",
       "</div>"
      ],
      "text/plain": [
       "        Source      SS  DF1  DF2      MS       F  p-unc  p-GG-corr    np2  \\\n",
       "0        Group  17.229    1    7  17.229   8.372  0.023        NaN  0.545   \n",
       "1          Day  29.372    2   14  14.686  25.609  0.000      0.003  0.785   \n",
       "2  Interaction   7.398    2   14   3.699   6.451  0.010        NaN  0.480   \n",
       "\n",
       "     eps sphericity  W-spher  p-spher  \n",
       "0    NaN        NaN      NaN      NaN  \n",
       "1  0.559      False    0.212    0.004  \n",
       "2    NaN        NaN      NaN      NaN  "
      ]
     },
     "execution_count": 22,
     "metadata": {},
     "output_type": "execute_result"
    }
   ],
   "source": [
    "# Run mixed RM ANOVA with day as within subjects factor and group as between subjects\n",
    "# to determine whether there is an effect of day, group, or interaction on tone response dFF\n",
    "pg.mixed_anova(data = all_post, dv = 'Post', within = 'Day', between='Group', subject='Animal').round(3)"
   ]
  },
  {
   "cell_type": "code",
   "execution_count": 23,
   "metadata": {},
   "outputs": [
    {
     "data": {
      "text/html": [
       "<div>\n",
       "<style scoped>\n",
       "    .dataframe tbody tr th:only-of-type {\n",
       "        vertical-align: middle;\n",
       "    }\n",
       "\n",
       "    .dataframe tbody tr th {\n",
       "        vertical-align: top;\n",
       "    }\n",
       "\n",
       "    .dataframe thead th {\n",
       "        text-align: right;\n",
       "    }\n",
       "</style>\n",
       "<table border=\"1\" class=\"dataframe\">\n",
       "  <thead>\n",
       "    <tr style=\"text-align: right;\">\n",
       "      <th></th>\n",
       "      <th>Contrast</th>\n",
       "      <th>Day</th>\n",
       "      <th>A</th>\n",
       "      <th>B</th>\n",
       "      <th>Paired</th>\n",
       "      <th>Parametric</th>\n",
       "      <th>T</th>\n",
       "      <th>dof</th>\n",
       "      <th>alternative</th>\n",
       "      <th>p-unc</th>\n",
       "      <th>p-corr</th>\n",
       "      <th>p-adjust</th>\n",
       "      <th>BF10</th>\n",
       "      <th>hedges</th>\n",
       "    </tr>\n",
       "  </thead>\n",
       "  <tbody>\n",
       "    <tr>\n",
       "      <th>0</th>\n",
       "      <td>Day</td>\n",
       "      <td>-</td>\n",
       "      <td>1.0</td>\n",
       "      <td>2.0</td>\n",
       "      <td>True</td>\n",
       "      <td>True</td>\n",
       "      <td>2.896405</td>\n",
       "      <td>8.000000</td>\n",
       "      <td>two-sided</td>\n",
       "      <td>0.020002</td>\n",
       "      <td>0.060005</td>\n",
       "      <td>bonf</td>\n",
       "      <td>3.685</td>\n",
       "      <td>0.958921</td>\n",
       "    </tr>\n",
       "    <tr>\n",
       "      <th>1</th>\n",
       "      <td>Day</td>\n",
       "      <td>-</td>\n",
       "      <td>1.0</td>\n",
       "      <td>3.0</td>\n",
       "      <td>True</td>\n",
       "      <td>True</td>\n",
       "      <td>4.535440</td>\n",
       "      <td>8.000000</td>\n",
       "      <td>two-sided</td>\n",
       "      <td>0.001911</td>\n",
       "      <td>0.005732</td>\n",
       "      <td>bonf</td>\n",
       "      <td>24.169</td>\n",
       "      <td>1.611877</td>\n",
       "    </tr>\n",
       "    <tr>\n",
       "      <th>2</th>\n",
       "      <td>Day</td>\n",
       "      <td>-</td>\n",
       "      <td>2.0</td>\n",
       "      <td>3.0</td>\n",
       "      <td>True</td>\n",
       "      <td>True</td>\n",
       "      <td>5.882426</td>\n",
       "      <td>8.000000</td>\n",
       "      <td>two-sided</td>\n",
       "      <td>0.000369</td>\n",
       "      <td>0.001107</td>\n",
       "      <td>bonf</td>\n",
       "      <td>94.062</td>\n",
       "      <td>0.827574</td>\n",
       "    </tr>\n",
       "    <tr>\n",
       "      <th>3</th>\n",
       "      <td>Group</td>\n",
       "      <td>-</td>\n",
       "      <td>TFC</td>\n",
       "      <td>Tone Only</td>\n",
       "      <td>False</td>\n",
       "      <td>True</td>\n",
       "      <td>2.576519</td>\n",
       "      <td>3.263044</td>\n",
       "      <td>two-sided</td>\n",
       "      <td>0.075372</td>\n",
       "      <td>NaN</td>\n",
       "      <td>NaN</td>\n",
       "      <td>2.269</td>\n",
       "      <td>1.725303</td>\n",
       "    </tr>\n",
       "    <tr>\n",
       "      <th>4</th>\n",
       "      <td>Day * Group</td>\n",
       "      <td>1.0</td>\n",
       "      <td>TFC</td>\n",
       "      <td>Tone Only</td>\n",
       "      <td>False</td>\n",
       "      <td>True</td>\n",
       "      <td>3.737159</td>\n",
       "      <td>3.198509</td>\n",
       "      <td>two-sided</td>\n",
       "      <td>0.029920</td>\n",
       "      <td>0.089761</td>\n",
       "      <td>bonf</td>\n",
       "      <td>6.418</td>\n",
       "      <td>2.510583</td>\n",
       "    </tr>\n",
       "    <tr>\n",
       "      <th>5</th>\n",
       "      <td>Day * Group</td>\n",
       "      <td>2.0</td>\n",
       "      <td>TFC</td>\n",
       "      <td>Tone Only</td>\n",
       "      <td>False</td>\n",
       "      <td>True</td>\n",
       "      <td>1.241612</td>\n",
       "      <td>3.493534</td>\n",
       "      <td>two-sided</td>\n",
       "      <td>0.291216</td>\n",
       "      <td>0.873648</td>\n",
       "      <td>bonf</td>\n",
       "      <td>0.786</td>\n",
       "      <td>0.822448</td>\n",
       "    </tr>\n",
       "    <tr>\n",
       "      <th>6</th>\n",
       "      <td>Day * Group</td>\n",
       "      <td>3.0</td>\n",
       "      <td>TFC</td>\n",
       "      <td>Tone Only</td>\n",
       "      <td>False</td>\n",
       "      <td>True</td>\n",
       "      <td>1.088444</td>\n",
       "      <td>3.508771</td>\n",
       "      <td>two-sided</td>\n",
       "      <td>0.345448</td>\n",
       "      <td>1.000000</td>\n",
       "      <td>bonf</td>\n",
       "      <td>0.715</td>\n",
       "      <td>0.720497</td>\n",
       "    </tr>\n",
       "  </tbody>\n",
       "</table>\n",
       "</div>"
      ],
      "text/plain": [
       "      Contrast  Day    A          B Paired  Parametric         T       dof  \\\n",
       "0          Day    -  1.0        2.0   True        True  2.896405  8.000000   \n",
       "1          Day    -  1.0        3.0   True        True  4.535440  8.000000   \n",
       "2          Day    -  2.0        3.0   True        True  5.882426  8.000000   \n",
       "3        Group    -  TFC  Tone Only  False        True  2.576519  3.263044   \n",
       "4  Day * Group  1.0  TFC  Tone Only  False        True  3.737159  3.198509   \n",
       "5  Day * Group  2.0  TFC  Tone Only  False        True  1.241612  3.493534   \n",
       "6  Day * Group  3.0  TFC  Tone Only  False        True  1.088444  3.508771   \n",
       "\n",
       "  alternative     p-unc    p-corr p-adjust    BF10    hedges  \n",
       "0   two-sided  0.020002  0.060005     bonf   3.685  0.958921  \n",
       "1   two-sided  0.001911  0.005732     bonf  24.169  1.611877  \n",
       "2   two-sided  0.000369  0.001107     bonf  94.062  0.827574  \n",
       "3   two-sided  0.075372       NaN      NaN   2.269  1.725303  \n",
       "4   two-sided  0.029920  0.089761     bonf   6.418  2.510583  \n",
       "5   two-sided  0.291216  0.873648     bonf   0.786  0.822448  \n",
       "6   two-sided  0.345448  1.000000     bonf   0.715  0.720497  "
      ]
     },
     "execution_count": 23,
     "metadata": {},
     "output_type": "execute_result"
    }
   ],
   "source": [
    "# Pairwise \n",
    "\n",
    "pg.pairwise_ttests(data=all_post, dv='Post', between='Group', within='Day', subject='Animal', \n",
    "                   padjust='bonf') "
   ]
  },
  {
   "attachments": {},
   "cell_type": "markdown",
   "metadata": {
    "tags": []
   },
   "source": [
    "# Looking at Tone Termination Responses by Day and Group"
   ]
  },
  {
   "cell_type": "code",
   "execution_count": 24,
   "metadata": {},
   "outputs": [],
   "source": [
    "# Get the peak dFF to the tone onset in the tone only group on each day\n",
    "\n",
    "tone_d1_prepost = fp_dat.calc_pre_post(df_tone_d1, event = 'tone', t_pre=(18,20), t_post=(20,22), measure = 'max')\n",
    "tone_d2_prepost = fp_dat.calc_pre_post(df_tone_d2, event = 'tone',  t_pre=(18,20), t_post=(20,22), measure = 'max')\n",
    "tone_d3_prepost = fp_dat.calc_pre_post(df_tone_d3, event = 'tone',  t_pre=(18,20), t_post=(20,22), measure = 'max')"
   ]
  },
  {
   "cell_type": "code",
   "execution_count": 25,
   "metadata": {},
   "outputs": [],
   "source": [
    "# Get the peak dFF to the tone onset in the TFC group on each day\n",
    "\n",
    "tfc_d1_prepost = fp_dat.calc_pre_post(df_tfc_d1, event = 'tone',  t_pre=(18,20), t_post=(20,22), measure = 'max')\n",
    "tfc_d2_prepost = fp_dat.calc_pre_post(df_tfc_d2, event = 'tone',  t_pre=(18,20), t_post=(20,22), measure = 'max')\n",
    "tfc_d3_prepost = fp_dat.calc_pre_post(df_tfc_d3, event = 'tone',  t_pre=(18,20), t_post=(20,22), measure = 'max')"
   ]
  },
  {
   "cell_type": "code",
   "execution_count": 26,
   "metadata": {},
   "outputs": [],
   "source": [
    "# combine all days data from tone only into one dataframe\n",
    "tone_only_prepost = pd.concat([tone_d1_prepost,tone_d2_prepost,tone_d3_prepost]).reset_index(drop = True)"
   ]
  },
  {
   "cell_type": "code",
   "execution_count": 27,
   "metadata": {},
   "outputs": [],
   "source": [
    "# combine all days data from TFC into one dataframe\n",
    "tfc_prepost = pd.concat([tfc_d1_prepost,tfc_d2_prepost,tfc_d3_prepost]).reset_index(drop = True)"
   ]
  },
  {
   "cell_type": "code",
   "execution_count": 28,
   "metadata": {},
   "outputs": [],
   "source": [
    "# add group label to prepost data frame\n",
    "tone_only_prepost['Group'] = 'Tone Only'\n",
    "tfc_prepost['Group'] = 'TFC'"
   ]
  },
  {
   "cell_type": "code",
   "execution_count": 29,
   "metadata": {},
   "outputs": [],
   "source": [
    "# combine tone only and TFC data into one dataframe\n",
    "all_prepost = pd.concat([tone_only_prepost, tfc_prepost]).reset_index()"
   ]
  },
  {
   "cell_type": "code",
   "execution_count": 30,
   "metadata": {},
   "outputs": [
    {
     "data": {
      "image/png": "[encoded data removed]",
      "text/plain": [
       "<Figure size 864x720 with 1 Axes>"
      ]
     },
     "metadata": {},
     "output_type": "display_data"
    }
   ],
   "source": [
    "# Plot peak dFF of tone only and TFC groups on each day\n",
    "pal = ['dodgerblue', '#9147B1']\n",
    "fig, ax = plt.subplots(figsize = (12,10))\n",
    "\n",
    "p = sns.pointplot(x = 'Day', y = '465nm_dFF_norm', hue = 'Group', \n",
    "                ci = 68, hue_order=['TFC','Tone Only'], palette = pal, capsize=0.1, \n",
    "                data = all_prepost.query('epoch == \"post-tone\"'),  errwidth = 6, scale = 2)\n",
    "\n",
    "ax.set_ylabel('')\n",
    "ax.set_xlabel('')\n",
    "ax.set_xticklabels(['1','2','3'], fontsize = 50)\n",
    "\n",
    "plt.yticks(fontsize = 50)\n",
    "\n",
    "\n",
    "leg = plt.legend(loc = \"upper right\", bbox_to_anchor = (1.15, 1), fontsize = 50)\n",
    "leg.get_texts()[0].set_text('TFC (Extinction)')\n",
    "leg.get_texts()[1].set_text('Tone Only\\n(Habituation)')\n",
    "\n",
    "#ax.set_ylim(0,6.99)\n",
    "\n",
    "plt.tight_layout()"
   ]
  },
  {
   "cell_type": "code",
   "execution_count": 31,
   "metadata": {},
   "outputs": [],
   "source": [
    "# Separate out the pre and post tone data\n",
    "all_post = all_prepost.query('epoch == \"post-tone\"')\n",
    "all_pre = all_prepost.query('epoch == \"pre-tone\"')"
   ]
  },
  {
   "cell_type": "code",
   "execution_count": 32,
   "metadata": {},
   "outputs": [],
   "source": [
    "# Just get the needed columns\n",
    "all_post = all_post[['Animal', '465nm_dFF_norm', 'Day', 'Group']]\n",
    "all_pre = all_pre[['Animal', '465nm_dFF_norm', 'Day', 'Group']]"
   ]
  },
  {
   "cell_type": "code",
   "execution_count": 33,
   "metadata": {},
   "outputs": [],
   "source": [
    "# Rename data column for easier typing\n",
    "new_columns = all_post.columns.values\n",
    "new_columns[1] = 'Post'\n",
    "all_post.columns = new_columns"
   ]
  },
  {
   "cell_type": "code",
   "execution_count": 34,
   "metadata": {},
   "outputs": [],
   "source": [
    "# Rename data column for easier typing\n",
    "new_columns = all_pre.columns.values\n",
    "new_columns[1] = 'Pre'\n",
    "all_pre.columns = new_columns"
   ]
  },
  {
   "cell_type": "code",
   "execution_count": 35,
   "metadata": {},
   "outputs": [],
   "source": [
    "import pingouin as pg"
   ]
  },
  {
   "cell_type": "code",
   "execution_count": 36,
   "metadata": {},
   "outputs": [
    {
     "data": {
      "text/html": [
       "<div>\n",
       "<style scoped>\n",
       "    .dataframe tbody tr th:only-of-type {\n",
       "        vertical-align: middle;\n",
       "    }\n",
       "\n",
       "    .dataframe tbody tr th {\n",
       "        vertical-align: top;\n",
       "    }\n",
       "\n",
       "    .dataframe thead th {\n",
       "        text-align: right;\n",
       "    }\n",
       "</style>\n",
       "<table border=\"1\" class=\"dataframe\">\n",
       "  <thead>\n",
       "    <tr style=\"text-align: right;\">\n",
       "      <th></th>\n",
       "      <th>Source</th>\n",
       "      <th>SS</th>\n",
       "      <th>DF1</th>\n",
       "      <th>DF2</th>\n",
       "      <th>MS</th>\n",
       "      <th>F</th>\n",
       "      <th>p-unc</th>\n",
       "      <th>p-GG-corr</th>\n",
       "      <th>np2</th>\n",
       "      <th>eps</th>\n",
       "      <th>sphericity</th>\n",
       "      <th>W-spher</th>\n",
       "      <th>p-spher</th>\n",
       "    </tr>\n",
       "  </thead>\n",
       "  <tbody>\n",
       "    <tr>\n",
       "      <th>0</th>\n",
       "      <td>Group</td>\n",
       "      <td>10.556</td>\n",
       "      <td>1</td>\n",
       "      <td>7</td>\n",
       "      <td>10.556</td>\n",
       "      <td>1.618</td>\n",
       "      <td>0.244</td>\n",
       "      <td>NaN</td>\n",
       "      <td>0.188</td>\n",
       "      <td>NaN</td>\n",
       "      <td>NaN</td>\n",
       "      <td>NaN</td>\n",
       "      <td>NaN</td>\n",
       "    </tr>\n",
       "    <tr>\n",
       "      <th>1</th>\n",
       "      <td>Day</td>\n",
       "      <td>27.019</td>\n",
       "      <td>2</td>\n",
       "      <td>14</td>\n",
       "      <td>13.509</td>\n",
       "      <td>13.431</td>\n",
       "      <td>0.001</td>\n",
       "      <td>0.017</td>\n",
       "      <td>0.657</td>\n",
       "      <td>0.525</td>\n",
       "      <td>False</td>\n",
       "      <td>0.096</td>\n",
       "      <td>0.0</td>\n",
       "    </tr>\n",
       "    <tr>\n",
       "      <th>2</th>\n",
       "      <td>Interaction</td>\n",
       "      <td>11.114</td>\n",
       "      <td>2</td>\n",
       "      <td>14</td>\n",
       "      <td>5.557</td>\n",
       "      <td>5.525</td>\n",
       "      <td>0.017</td>\n",
       "      <td>NaN</td>\n",
       "      <td>0.441</td>\n",
       "      <td>NaN</td>\n",
       "      <td>NaN</td>\n",
       "      <td>NaN</td>\n",
       "      <td>NaN</td>\n",
       "    </tr>\n",
       "  </tbody>\n",
       "</table>\n",
       "</div>"
      ],
      "text/plain": [
       "        Source      SS  DF1  DF2      MS       F  p-unc  p-GG-corr    np2  \\\n",
       "0        Group  10.556    1    7  10.556   1.618  0.244        NaN  0.188   \n",
       "1          Day  27.019    2   14  13.509  13.431  0.001      0.017  0.657   \n",
       "2  Interaction  11.114    2   14   5.557   5.525  0.017        NaN  0.441   \n",
       "\n",
       "     eps sphericity  W-spher  p-spher  \n",
       "0    NaN        NaN      NaN      NaN  \n",
       "1  0.525      False    0.096      0.0  \n",
       "2    NaN        NaN      NaN      NaN  "
      ]
     },
     "execution_count": 36,
     "metadata": {},
     "output_type": "execute_result"
    }
   ],
   "source": [
    "# Run mixed RM ANOVA with day as within subjects factor and group as between subjects\n",
    "# to determine whether there is an effect of day, group, or interaction on tone response dFF\n",
    "pg.mixed_anova(data = all_post, dv = 'Post', within = 'Day', between='Group', subject='Animal').round(3)"
   ]
  }
 ],
 "metadata": {
  "kernelspec": {
   "display_name": "Python 3.8.8 ('base')",
   "language": "python",
   "name": "python3"
  },
  "language_info": {
   "codemirror_mode": {
    "name": "ipython",
    "version": 3
   },
   "file_extension": ".py",
   "mimetype": "text/x-python",
   "name": "python",
   "nbconvert_exporter": "python",
   "pygments_lexer": "ipython3",
   "version": "3.8.8"
  },
  "vscode": {
   "interpreter": {
    "hash": "9cd449fa4c5aa187fb47ca34edd94f8e38c8d75db9fd086d8c0133fe51d692e5"
   }
  }
 },
 "nbformat": 4,
 "nbformat_minor": 4
}
